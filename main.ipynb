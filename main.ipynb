{
  "nbformat": 4,
  "nbformat_minor": 0,
  "metadata": {
    "colab": {
      "provenance": [],
      "gpuType": "T4",
      "authorship_tag": "ABX9TyNU6z1VSUY3WBQhErdbAQ9t",
      "include_colab_link": true
    },
    "kernelspec": {
      "name": "python3",
      "display_name": "Python 3"
    },
    "language_info": {
      "name": "python"
    },
    "accelerator": "GPU"
  },
  "cells": [
    {
      "cell_type": "markdown",
      "metadata": {
        "id": "view-in-github",
        "colab_type": "text"
      },
      "source": [
        "<a href=\"https://colab.research.google.com/github/ItMeansBigMountain/wutHappened/blob/googleColab/main.ipynb\" target=\"_parent\"><img src=\"https://colab.research.google.com/assets/colab-badge.svg\" alt=\"Open In Colab\"/></a>"
      ]
    },
    {
      "cell_type": "code",
      "source": [
        "!pip install -r requirements.txt\n",
        "!pip install torch==2.0.1+cu118 -f https://download.pytorch.org/whl/cu118/torch_stable.html\n",
        "!pip install torchvision\n",
        "!pip install opencv-python"
      ],
      "metadata": {
        "id": "cXNn6zUEdOfF"
      },
      "execution_count": null,
      "outputs": []
    },
    {
      "cell_type": "code",
      "execution_count": null,
      "metadata": {
        "id": "I4f71SsDcCMa"
      },
      "outputs": [],
      "source": [
        "import os\n",
        "import json\n",
        "\n",
        "from NewsApi import NewsApi\n",
        "from ImageGenerator import ImageGenerator\n",
        "from ScriptGenerator import ScriptGenerator\n",
        "\n",
        "import torch\n",
        "import torch.utils.checkpoint as checkpoint\n",
        "import gc"
      ]
    },
    {
      "cell_type": "code",
      "source": [
        "# INIT MODEL STORAGE\n",
        "cache_dir = os.path.abspath(\"./my_model_cache\")\n",
        "os.environ['TRANSFORMERS_CACHE'] = cache_dir\n",
        "\n",
        "# INIT DATA INGESTION\n",
        "news = NewsApi(api=True, webscrape=False)"
      ],
      "metadata": {
        "id": "jmsNrh1vcbfS"
      },
      "execution_count": null,
      "outputs": []
    },
    {
      "cell_type": "code",
      "source": [
        "# INIT AI MODELS\n",
        "# image_gen = ImageGenerator(\"stabilityai/stable-diffusion-xl-base-1.0\", cache_dir=cache_dir)\n",
        "image_gen = ImageGenerator(\"CompVis/stable-diffusion-v1-4\", cache_dir=cache_dir)\n",
        "script_gen = ScriptGenerator(\"distilgpt2\", device=0)\n"
      ],
      "metadata": {
        "id": "vduOYB8Nci57"
      },
      "execution_count": null,
      "outputs": []
    },
    {
      "cell_type": "code",
      "source": [
        "# INIT OUTPUT DIR\n",
        "output_dir = os.path.abspath(\"./output/\")\n",
        "if not os.path.exists(output_dir):\n",
        "    os.makedirs(output_dir)"
      ],
      "metadata": {
        "id": "ao4j1tDIcmDl"
      },
      "execution_count": null,
      "outputs": []
    },
    {
      "cell_type": "code",
      "source": [
        "# Initialize dictionary to hold article data\n",
        "article_data = {}\n",
        "\n",
        "# Fetch news articles\n",
        "articles = news.fetch_api()"
      ],
      "metadata": {
        "id": "zvyc3wXycqIO"
      },
      "execution_count": null,
      "outputs": []
    },
    {
      "cell_type": "code",
      "source": [
        "# Generate images and scripts\n",
        "for idx, article in enumerate(articles):\n",
        "    with torch.no_grad():\n",
        "      # GENERATE IMAGE\n",
        "      if article.get('description') is None:\n",
        "          image = image_gen.generate_image(article.get('title'))\n",
        "      else:\n",
        "          image = image_gen.generate_image(article.get('description'))\n",
        "\n",
        "      # GENERATE SCRIPT\n",
        "      script = script_gen.generate_script(\n",
        "              news.clean_webpage(article.get('url')),\n",
        "              max_length=1024,\n",
        "              num_return_sequences=1\n",
        "          )\n",
        "\n",
        "      # Save Images and News Scripts\n",
        "      image_path = os.path.join(output_dir, f\"image_{idx}.png\")\n",
        "      image.save(image_path)\n",
        "\n",
        "      # Populate dictionary with article data\n",
        "      article_data[idx] = {\n",
        "          \"title\": article.get('title'),\n",
        "          \"original_story\": article.get('description'),\n",
        "          \"script\": script,\n",
        "          \"image\": image_path,\n",
        "          \"news_source\": article.get('source'),\n",
        "          \"author\": article.get('author'),\n",
        "      }\n",
        "\n",
        "      print(f\"Saved image and script for article {idx} to {output_dir}\")\n",
        "\n",
        "    # Free up GPU memory\n",
        "    del image  # Delete the image tensor\n",
        "    torch.cuda.empty_cache()  # Free up cache\n",
        "\n",
        "    # Free up CPU memory\n",
        "    del script  # Delete the script variable\n",
        "    gc.collect()  # Run garbage collection\n"
      ],
      "metadata": {
        "id": "OetsXpUzdAvW"
      },
      "execution_count": null,
      "outputs": []
    },
    {
      "cell_type": "code",
      "source": [
        "# Save dictionary as JSON file\n",
        "json_path = os.path.join(output_dir, \"article_data.json\")\n",
        "with open(json_path, \"w\", encoding='utf-8') as f:\n",
        "    json.dump(article_data, f, ensure_ascii=False, indent=4)"
      ],
      "metadata": {
        "id": "D0-KwKKndDmh"
      },
      "execution_count": null,
      "outputs": []
    }
  ]
}